{
 "cells": [
  {
   "cell_type": "code",
   "execution_count": 108,
   "id": "8758aeef-13e8-463b-9263-9d38628b472f",
   "metadata": {},
   "outputs": [],
   "source": [
    "import pandas as pd\n",
    "import os, re\n",
    "from sql import *\n",
    "from urllib.parse import quote\n",
    "from sqlalchemy import *\n",
    "from tools import *\n",
    "import clickhouse_connect, time"
   ]
  },
  {
   "cell_type": "code",
   "execution_count": 109,
   "id": "1305bbeb-7f18-4940-a6d1-fb4b99ba8d18",
   "metadata": {},
   "outputs": [],
   "source": [
    "def create_zt_con():\n",
    "    \"\"\"\n",
    "    创建和财务中台的数据库连接\n",
    "    \"\"\"\n",
    "    # 假设你的原始密码包含特殊字符\n",
    "    password = \"1q2w3e!@#\"\n",
    "\n",
    "    # 对密码进行URL编码\n",
    "    encoded_password = quote(password)\n",
    "\n",
    "    # 构建DATABASE_URL\n",
    "    username = \"saiyi\"\n",
    "    database = \"ssc_1001_db\"\n",
    "    hostname = \"rm-uf6um0z4uf7deto67.mysql.rds.aliyuncs.com\"\n",
    "    port = \"3306\"\n",
    "    db_type = \"mysql+pymysql\"\n",
    "\n",
    "    DATABASE_URL = f\"{db_type}://{username}:{encoded_password}@{hostname}:{port}/{database}\"\n",
    "\n",
    "    return create_engine(DATABASE_URL)"
   ]
  },
  {
   "cell_type": "code",
   "execution_count": 110,
   "id": "53248b91-a898-482f-8322-5624b16c9ce1",
   "metadata": {},
   "outputs": [],
   "source": [
    "def create_zt_mdm_con():\n",
    "    # 假设你的原始密码包含特殊字符\n",
    "    password = \"1q2w3e!@#\"\n",
    "\n",
    "    # 对密码进行URL编码\n",
    "    encoded_password = quote(password)\n",
    "\n",
    "    # 构建DATABASE_U RL\n",
    "    username = \"saiyi\"\n",
    "    database = \"ssc_mdm_1001_db\"\n",
    "    hostname = \"rm-uf6um0z4uf7deto67.mysql.rds.aliyuncs.com\"\n",
    "    port = \"3306\"\n",
    "    db_type = \"mysql+pymysql\"\n",
    "\n",
    "    DATABASE_URL = f\"{db_type}://{username}:{encoded_password}@{hostname}:{port}/{database}\"\n",
    "\n",
    "    return create_engine(DATABASE_URL)"
   ]
  },
  {
   "cell_type": "code",
   "execution_count": 111,
   "id": "c615f821-5a87-4bc6-8e02-73cbeb05901f",
   "metadata": {},
   "outputs": [],
   "source": [
    "con = create_zt_con()\n",
    "con2 = create_zt_mdm_con()"
   ]
  },
  {
   "cell_type": "code",
   "execution_count": 112,
   "id": "55346044-4ac5-4c0e-83ba-f050363243a5",
   "metadata": {},
   "outputs": [],
   "source": [
    "df_detail =  pd.read_sql(detail_sql, con)"
   ]
  },
  {
   "cell_type": "markdown",
   "id": "d1e3f519-938b-41c1-87dd-5eedc0124774",
   "metadata": {},
   "source": [
    "---"
   ]
  },
  {
   "cell_type": "markdown",
   "id": "e0ad4f4d-f918-4036-88f9-d80ae21a73df",
   "metadata": {},
   "source": [
    "1. 匹配成本中心"
   ]
  },
  {
   "cell_type": "code",
   "execution_count": 115,
   "id": "4ce9fbae-2618-476e-9e81-9ee951509a48",
   "metadata": {},
   "outputs": [],
   "source": [
    "df_other_fields = pd.read_sql(zdbc_sql,con2)\n",
    "df_other_fields.set_index('VALUE_SET_CODE',inplace=True)\n",
    "df_other_fields.columns =['成本中心名称']\n",
    "df_detail = pd.merge(df_detail, df_other_fields, left_on = 'costCenter', right_on='VALUE_SET_CODE', how='left')"
   ]
  },
  {
   "cell_type": "markdown",
   "id": "174ee120-9181-4bfe-96de-9868cb14af15",
   "metadata": {},
   "source": [
    "2. 预算科目名称"
   ]
  },
  {
   "cell_type": "code",
   "execution_count": 117,
   "id": "477cfe00-3458-4aa7-b220-2f8cf4ef6da7",
   "metadata": {},
   "outputs": [],
   "source": [
    "df_other_fields1 = pd.read_sql(zdbc_sql1,con2)\n",
    "df_other_fields1.set_index('VALUE_SET_CODE',inplace=True)\n",
    "df_other_fields1.columns =['预算科目名称']\n",
    "df_detail = pd.merge(df_detail, df_other_fields1, left_on = 'segment', right_on='VALUE_SET_CODE', how='left')"
   ]
  },
  {
   "cell_type": "markdown",
   "id": "6fe67020-45e6-4280-84fc-a58083283e90",
   "metadata": {},
   "source": [
    "3. 匹配项目阶段名称"
   ]
  },
  {
   "cell_type": "code",
   "execution_count": 119,
   "id": "e51fd43b-e146-4e5a-a24c-613b809365b9",
   "metadata": {},
   "outputs": [],
   "source": [
    "df_other_fields2 = pd.read_sql(zdbc_sql2,con2)\n",
    "df_other_fields2.set_index('VALUE_SET_CODE',inplace=True)\n",
    "df_other_fields2.columns = ['项目阶段名称']\n",
    "df_detail = pd.merge(df_detail, df_other_fields2, left_on = 'dimension1', right_on='VALUE_SET_CODE', how='left')"
   ]
  },
  {
   "cell_type": "markdown",
   "id": "a8be630a-034e-4cb9-83f6-2e97415be4d4",
   "metadata": {},
   "source": [
    "4. 匹配产品名称"
   ]
  },
  {
   "cell_type": "code",
   "execution_count": 121,
   "id": "1da14334-84c0-4e0f-8085-1f0a96851c88",
   "metadata": {},
   "outputs": [],
   "source": [
    "df_other_fields2 = pd.read_sql(zdbc_sql3,con2)\n",
    "df_other_fields2.set_index('VALUE_SET_CODE',inplace=True)\n",
    "df_other_fields2.columns = ['产品名称']\n",
    "df_detail = pd.merge(df_detail, df_other_fields2, left_on = 'dimension2', right_on='VALUE_SET_CODE', how='left')"
   ]
  },
  {
   "cell_type": "markdown",
   "id": "3271fcd4-c8a4-436b-81c8-42b85cb8e0e7",
   "metadata": {},
   "source": [
    "5. 科目类别名称"
   ]
  },
  {
   "cell_type": "code",
   "execution_count": 123,
   "id": "db4d4f0f-9822-4cab-88e1-cc618f7f3379",
   "metadata": {},
   "outputs": [],
   "source": [
    "df_other_fields2 = pd.read_sql(zdbc_sql4,con2)\n",
    "df_other_fields2.set_index('VALUE_SET_CODE',inplace=True)\n",
    "df_other_fields2.columns = ['科目类别名称']\n",
    "df_detail = pd.merge(df_detail, df_other_fields2, left_on = 'segmentCategory', right_on='VALUE_SET_CODE', how='left')"
   ]
  },
  {
   "cell_type": "markdown",
   "id": "4d12d7ff-ba39-441d-807a-2a804982fb98",
   "metadata": {},
   "source": [
    "6. 匹配项目名称 "
   ]
  },
  {
   "cell_type": "code",
   "execution_count": 125,
   "id": "fadad24c-2f47-4c4c-91e0-d952133268a8",
   "metadata": {},
   "outputs": [],
   "source": [
    "df_project_name = pd.read_sql(sql_text_project_name, con)"
   ]
  },
  {
   "cell_type": "code",
   "execution_count": 126,
   "id": "2de59d3b-725f-4248-8fdb-9af993f1b83f",
   "metadata": {},
   "outputs": [],
   "source": [
    "df_project_name = pd.read_sql(sql_text_project_name, con)\n",
    "\n",
    "df_project_name = df_project_name[['projectId','projectName']].copy().drop_duplicates(subset=['projectId'],keep='last')\n",
    "\n",
    "df_project_name.set_index('projectId',inplace= True)\n",
    "\n",
    "df_project_name.columns =['项目名称']\n",
    "\n",
    "df_detail = pd.merge(df_detail, df_project_name, left_on='project',right_on='projectId',how='left')"
   ]
  },
  {
   "cell_type": "markdown",
   "id": "f0b27921-9e18-4cc7-a5df-9c0d5b579b76",
   "metadata": {},
   "source": [
    "7. 匹配员工信息"
   ]
  },
  {
   "cell_type": "code",
   "execution_count": 128,
   "id": "57340efb-467d-4a94-a564-3ced2eadcf53",
   "metadata": {},
   "outputs": [],
   "source": [
    "df_emp = pd.read_sql(sql_text_employee, con2)\n",
    "df_emp = df_emp[['AD_ACCOUNT',  'EMPLOYEE_NUMBER', 'REAL_NAME']].copy()\n",
    "df_detail = pd.merge(df_detail, df_emp, left_on =['applicant'], right_on = ['AD_ACCOUNT'],how='left' )"
   ]
  },
  {
   "cell_type": "markdown",
   "id": "212643f2-9e3e-41db-88ac-a635169e89ca",
   "metadata": {},
   "source": [
    "8. 匹配部门信息"
   ]
  },
  {
   "cell_type": "code",
   "execution_count": 130,
   "id": "68e9ed3f-f839-4d6f-bdd0-1ed5ed0ea827",
   "metadata": {},
   "outputs": [],
   "source": [
    "df_department = pd.read_sql(sql_text_department, con2)\n",
    "df_department = df_department[['BUSINESS_ID', 'ORGANIZATION_NAME']].copy()\n",
    "df_detail = pd.merge(df_detail, df_department,left_on='APPLICATION_DEPT',right_on='BUSINESS_ID',how='left')"
   ]
  },
  {
   "cell_type": "markdown",
   "id": "60431e9a-c9ed-4b04-b40d-8f705195df3a",
   "metadata": {},
   "source": [
    "9. 匹配业务小类"
   ]
  },
  {
   "cell_type": "code",
   "execution_count": 132,
   "id": "b9acc4c2-0171-4be2-b1fd-f347b6d9cd4f",
   "metadata": {},
   "outputs": [],
   "source": [
    "def set_to_str(x):\n",
    "    try:\n",
    "        return \",\".join(list(x))\n",
    "    except:\n",
    "        if pd.isna(x):\n",
    "            return x\n",
    "        else:\n",
    "            return str(x)"
   ]
  },
  {
   "cell_type": "code",
   "execution_count": 133,
   "id": "37f12b49-aa33-4b9c-b6b8-4b34703b4927",
   "metadata": {},
   "outputs": [],
   "source": [
    "def my_clean(input_string):\n",
    "    try:\n",
    "        pattern = re.compile(r'\"zh-CN\":\"(.*?)\"')\n",
    "        matches = pattern.findall(input_string)\n",
    "        return ','.join(matches)\n",
    "    except:\n",
    "        if not pd.isna(input_string):\n",
    "            return str(input_string)\n",
    "        else:\n",
    "            return input_string"
   ]
  },
  {
   "cell_type": "code",
   "execution_count": 134,
   "id": "aa6f1d87-8390-4c4c-9877-2be21d8f95be",
   "metadata": {},
   "outputs": [],
   "source": [
    "df_bs_small_kind = pd.read_sql(sql_bs_small_kind, con)\n",
    "t = pd.read_sql(\"select CATEGORY_LINE_CODE, CATEGORY_LINE_NAME from mdm_business_category_line\", con2)\n",
    "df_bs_small_kind = pd.merge(df_bs_small_kind, t, left_on='categoryCode', right_on='CATEGORY_LINE_CODE',how='left')\n",
    "df_bs_small_kind = df_bs_small_kind[['docId', 'segment', 'CATEGORY_LINE_NAME']].copy()\n",
    "df_bs_small_kind = df_bs_small_kind.groupby(['docId', 'segment']).apply(lambda x: set(x['CATEGORY_LINE_NAME'])).to_frame()\n",
    "df_bs_small_kind.columns = ['业务小类名称']\n",
    "df_bs_small_kind['业务小类名称'] = df_bs_small_kind['业务小类名称'].map(set_to_str)\n",
    "df_bs_small_kind['业务小类名称'] = df_bs_small_kind['业务小类名称'].map(my_clean)\n",
    "df_detail = pd.merge(df_detail, df_bs_small_kind, on= list(df_bs_small_kind.index.names), how='left')"
   ]
  },
  {
   "cell_type": "markdown",
   "id": "d138de45-5c64-40fb-9d73-3a1055431820",
   "metadata": {},
   "source": [
    "10. 字段名清洗+ 部门名称清洗+预算主体名称清洗 + 预算操作类型清洗"
   ]
  },
  {
   "cell_type": "code",
   "execution_count": 136,
   "id": "d1a7dba9-bd4f-40fa-a93b-0fb1445a8b13",
   "metadata": {},
   "outputs": [],
   "source": [
    "df_detail.rename(columns = names, inplace=True)"
   ]
  },
  {
   "cell_type": "code",
   "execution_count": 137,
   "id": "577225b0-f147-46b0-808e-411813001502",
   "metadata": {},
   "outputs": [],
   "source": [
    "df_detail['部门名称'] = df_detail['部门名称'].map(my_clean)\n",
    "df_detail['预算主体名称'] = df_detail['预算主体名称'].map(my_clean)"
   ]
  },
  {
   "cell_type": "code",
   "execution_count": 138,
   "id": "8c89dc3d-d551-4795-8ca4-47c99660a0b3",
   "metadata": {},
   "outputs": [],
   "source": [
    "df_detail['预算操作类型'] = df_detail['预算操作类型'].map({\"FREEZE\":\"冻结\",\n",
    "                     \"RELEASE\":\"释放\",\n",
    "                     \"DEDUCTION\":\"扣减\",\n",
    "                     \"ADJUST\":\"调整\",\n",
    "                     \"ADD\":\"新增\"                       \n",
    "                    })"
   ]
  },
  {
   "cell_type": "markdown",
   "id": "2c5bbc17-0e5e-4906-881f-530e4d0e5977",
   "metadata": {},
   "source": [
    "11. 匹配成本中心"
   ]
  },
  {
   "cell_type": "code",
   "execution_count": 140,
   "id": "2577874d-7967-49af-a3da-728b3fdcd4bf",
   "metadata": {},
   "outputs": [],
   "source": [
    "def create_otm_con():\n",
    "    # 假设你的原始密码包含特殊字符\n",
    "    password = \"3s123456\"\n",
    "\n",
    "    # 对密码进行URL编码\n",
    "    encoded_password = quote(password)\n",
    "\n",
    "    # 构建DATABASE_URL\n",
    "    username = \"root\"\n",
    "    database = \"otm\"\n",
    "    hostname = \"10.10.2.51\"\n",
    "    port = \"3306\"\n",
    "    db_type = \"mysql+pymysql\"\n",
    "\n",
    "    DATABASE_URL = f\"{db_type}://{username}:{encoded_password}@{hostname}:{port}/{database}\"\n",
    "\n",
    "    return create_engine(DATABASE_URL)"
   ]
  },
  {
   "cell_type": "code",
   "execution_count": 141,
   "id": "f016f53b-1e1a-4c3d-a632-9bfafc3911c9",
   "metadata": {},
   "outputs": [],
   "source": [
    "conx = create_otm_con()"
   ]
  },
  {
   "cell_type": "code",
   "execution_count": 142,
   "id": "9ea872c9-b774-4ad6-b769-20516fd4028b",
   "metadata": {},
   "outputs": [],
   "source": [
    "df_cost = pd.read_sql(\"SELECT * FROM `BU成本中心code映射表` \", con=conx)\n",
    "df_cost.set_index('ORGANIZATION_CODE', inplace=True)\n",
    "df_detail = pd.merge(df_detail, df_cost, left_on = ['成本中心'], right_on=['ORGANIZATION_CODE'], how='left')"
   ]
  },
  {
   "cell_type": "markdown",
   "id": "a16af736-d8cf-4175-8cbd-27d2127518f7",
   "metadata": {},
   "source": [
    "12. 清洗成本中心、预算科目、申请人、申请人部门"
   ]
  },
  {
   "cell_type": "code",
   "execution_count": 144,
   "id": "c96f7c7b-9ddb-4f11-8339-9c57b33b957d",
   "metadata": {},
   "outputs": [],
   "source": [
    "df_detail['成本中心'] = df_detail['成本中心名称'] + '-' +df_detail['成本中心']\n",
    "\n",
    "df_detail['预算科目'] = df_detail['预算科目名称'] +  df_detail['预算科目']\n",
    "\n",
    "df_detail['名称'].fillna('无姓名',inplace=True)\n",
    "\n",
    "df_detail['员工号'].fillna(\"无员工号\", inplace=True)\n",
    "\n",
    "df_detail['申请人'] = df_detail['名称'] + '-' +df_detail['员工号']\n",
    "\n",
    "df_detail['申请人部门'] = df_detail['部门名称']"
   ]
  },
  {
   "cell_type": "markdown",
   "id": "59d9d9d7-3293-4430-afce-cd0ff0694ef5",
   "metadata": {},
   "source": [
    "13. 把数据写入clickhouse "
   ]
  },
  {
   "cell_type": "code",
   "execution_count": 146,
   "id": "e64bcd89-7693-4242-8924-91004286c96a",
   "metadata": {},
   "outputs": [],
   "source": [
    "client = clickhouse_connect.get_client(host='10.10.2.51', port=8123, username='root', password='3s123456')"
   ]
  },
  {
   "cell_type": "code",
   "execution_count": 147,
   "id": "736c7a84-aa9d-46a7-819a-fd0b6f53c8f9",
   "metadata": {},
   "outputs": [
    {
     "data": {
      "text/plain": [
       "<clickhouse_connect.driver.summary.QuerySummary at 0x160a82c8910>"
      ]
     },
     "execution_count": 147,
     "metadata": {},
     "output_type": "execute_result"
    }
   ],
   "source": [
    "client.command(\"TRUNCATE TABLE `预算执行报表`\")"
   ]
  },
  {
   "cell_type": "code",
   "execution_count": 148,
   "id": "87dae200-1b78-4505-becc-d8a419b38c7a",
   "metadata": {},
   "outputs": [
    {
     "data": {
      "text/plain": [
       "<clickhouse_connect.driver.summary.QuerySummary at 0x1636bf8fed0>"
      ]
     },
     "execution_count": 148,
     "metadata": {},
     "output_type": "execute_result"
    }
   ],
   "source": [
    "client.insert_df('预算执行报表',df_detail)"
   ]
  },
  {
   "cell_type": "code",
   "execution_count": 181,
   "id": "8126ab3c-4af7-4d64-b092-97f2e25b1fc6",
   "metadata": {},
   "outputs": [
    {
     "data": {
      "text/plain": [
       "4626808"
      ]
     },
     "execution_count": 181,
     "metadata": {},
     "output_type": "execute_result"
    }
   ],
   "source": [
    "client.command(\"select count(1) from  `预算执行报表`\")"
   ]
  },
  {
   "cell_type": "code",
   "execution_count": null,
   "id": "011057e2-819f-4974-92bb-ae840a479248",
   "metadata": {},
   "outputs": [],
   "source": []
  },
  {
   "cell_type": "code",
   "execution_count": null,
   "id": "ece58c58-24da-4f56-bfd9-131fd7e810cb",
   "metadata": {},
   "outputs": [],
   "source": []
  },
  {
   "cell_type": "code",
   "execution_count": null,
   "id": "7a60ef0b-64a0-441b-b5f8-d878212414a6",
   "metadata": {},
   "outputs": [],
   "source": []
  },
  {
   "cell_type": "code",
   "execution_count": null,
   "id": "99a29ba2-9504-4055-a716-349c34e2e3fd",
   "metadata": {},
   "outputs": [],
   "source": []
  }
 ],
 "metadata": {
  "kernelspec": {
   "display_name": "Python 3 (ipykernel)",
   "language": "python",
   "name": "python3"
  },
  "language_info": {
   "codemirror_mode": {
    "name": "ipython",
    "version": 3
   },
   "file_extension": ".py",
   "mimetype": "text/x-python",
   "name": "python",
   "nbconvert_exporter": "python",
   "pygments_lexer": "ipython3",
   "version": "3.11.7"
  },
  "widgets": {
   "application/vnd.jupyter.widget-state+json": {
    "state": {},
    "version_major": 2,
    "version_minor": 0
   }
  }
 },
 "nbformat": 4,
 "nbformat_minor": 5
}
